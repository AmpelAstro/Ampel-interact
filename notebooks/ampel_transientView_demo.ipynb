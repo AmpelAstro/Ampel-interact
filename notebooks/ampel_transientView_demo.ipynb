{
 "cells": [
  {
   "cell_type": "markdown",
   "metadata": {},
   "source": [
    "AMPEL is a modular analysis platform, initially developed for complex analysis of heterogeneus streams of astronomical data. This notebook shows how to interact with \"snapshots\" of data exported from a live AMPEL system."
   ]
  },
  {
   "cell_type": "code",
   "execution_count": null,
   "metadata": {},
   "outputs": [],
   "source": [
    "# General modules being used\n",
    "import bson   # Use the one provided through pymongo\n",
    "import sys\n",
    "import dataclasses\n",
    "import matplotlib.pyplot as plt\n",
    "from IPython.display import clear_output"
   ]
  },
  {
   "cell_type": "markdown",
   "metadata": {},
   "source": [
    "Information regarding an invidual transient is stored as a `TransientView` object. This, together with other base `AMPEL` types are loaded from the `Ampel-base` repository."
   ]
  },
  {
   "cell_type": "code",
   "execution_count": null,
   "metadata": {},
   "outputs": [],
   "source": [
    "from ampel.base.TransientView import TransientView"
   ]
  },
  {
   "cell_type": "markdown",
   "metadata": {},
   "source": [
    "Working with transient data exported from `AMPEL` can be divided into six potential stages:\n",
    "\n",
    "* _load_ : Read data for transients (fulfilling base criteria).\n",
    "* _augment_ : Add external information, e.g. through catalogs or other observatories.\n",
    "* _calculate_ : Derive new values based on transient properties.\n",
    "* _rank_ : Rank and/or filter transients.\n",
    "* _inspect_ : Visualize and evaluate according to rank.\n",
    "* _push_ : Save gathered information (locally or remotely)."
   ]
  },
  {
   "cell_type": "code",
   "execution_count": null,
   "metadata": {},
   "outputs": [],
   "source": [
    "# Directly link Ampel-interact python code\n",
    "sys.path.append('/home/jnordin/github/ampelvispa/Ampel-interact/src')"
   ]
  },
  {
   "cell_type": "code",
   "execution_count": null,
   "metadata": {},
   "outputs": [],
   "source": [
    "# Get a loader to read locally stored TVs obtained from the WebDav server\n",
    "import tv_loaders\n",
    "import inspectors\n",
    "## Loader assuming you have a synced webDav file collection\n",
    "loader = tv_loaders.WebDavLoader( 'HU_TNS_MSIP', '/home/jnordin/data/transientViews/webDav',verbose=True)\n",
    "## Loader assuming you have directly downloaded a collection of TVs dumped from an Ampel session\n",
    "#loader = tv_loaders.TVdumpLoader('HU_TNS_MSIP', '/home/jnordin/github/ampelvispa/Ampel-interact/data/tns_nov24.json.gz')"
   ]
  },
  {
   "cell_type": "code",
   "execution_count": null,
   "metadata": {},
   "outputs": [],
   "source": [
    "# An augmenter potentially adds further data to transient views\n",
    "augmenter = None\n",
    "# A calculater would derive new properties of each transient\n",
    "calculator = None\n",
    "# A ranking method would work on the full panel of TVs and group/sort them. \n",
    "ranker = None\n",
    "# Visual inspection allows direct inspection of TV content\n",
    "# We can tune the output shown slightly through requesting some alert properties to be displayed\n",
    "display_alert_props = ['distnr','magnr','fwhm','classtar','nneg','nbad','rb','sgscore1','distpsnr1','ndethist','neargaia','drb']\n",
    "# We can also print the `latest` of t2 records if present\n",
    "t2units_to_print = ['CATALOGMATCH']\n",
    "inspector = None\n",
    "# A pusher would save or transfer the results of the ranking and inspection\n",
    "pusher = None"
   ]
  },
  {
   "cell_type": "code",
   "execution_count": null,
   "metadata": {},
   "outputs": [],
   "source": []
  },
  {
   "cell_type": "code",
   "execution_count": null,
   "metadata": {},
   "outputs": [],
   "source": []
  },
  {
   "cell_type": "code",
   "execution_count": null,
   "metadata": {},
   "outputs": [],
   "source": [
    "# Different options for loading objects\n",
    "\n",
    "# Loading all transients matching some glob query - could get very large\n",
    "#tvs = loader.load_matches('ZTF20*')\n",
    "\n",
    "# Load transients recently modified\n",
    "tvs = loader.load_recent(0.48)\n"
   ]
  },
  {
   "cell_type": "code",
   "execution_count": null,
   "metadata": {},
   "outputs": [],
   "source": [
    "len(tvs)"
   ]
  },
  {
   "cell_type": "code",
   "execution_count": null,
   "metadata": {},
   "outputs": [],
   "source": [
    "# A calculator would produce a dict with \"T2\" results to be considered along those provided in the TVs\n",
    "if calculator is None:\n",
    "    extra_t2s = {}"
   ]
  },
  {
   "cell_type": "code",
   "execution_count": null,
   "metadata": {},
   "outputs": [],
   "source": [
    "tvs_inspect = tvs[30:40]"
   ]
  },
  {
   "cell_type": "code",
   "execution_count": null,
   "metadata": {},
   "outputs": [],
   "source": []
  },
  {
   "cell_type": "code",
   "execution_count": null,
   "metadata": {},
   "outputs": [],
   "source": [
    "inspector = inspectors.ScanLC(display_alert_props, t2units_to_print)"
   ]
  },
  {
   "cell_type": "code",
   "execution_count": null,
   "metadata": {},
   "outputs": [],
   "source": [
    "scan_result = inspector.scan_tvlist(tvs_inspect)"
   ]
  },
  {
   "cell_type": "code",
   "execution_count": null,
   "metadata": {},
   "outputs": [],
   "source": [
    "scan_result"
   ]
  },
  {
   "cell_type": "code",
   "execution_count": null,
   "metadata": {},
   "outputs": [],
   "source": []
  },
  {
   "cell_type": "code",
   "execution_count": null,
   "metadata": {},
   "outputs": [],
   "source": []
  },
  {
   "cell_type": "code",
   "execution_count": null,
   "metadata": {},
   "outputs": [],
   "source": []
  },
  {
   "cell_type": "code",
   "execution_count": null,
   "metadata": {},
   "outputs": [],
   "source": []
  },
  {
   "cell_type": "code",
   "execution_count": null,
   "metadata": {},
   "outputs": [],
   "source": []
  },
  {
   "cell_type": "code",
   "execution_count": null,
   "metadata": {},
   "outputs": [],
   "source": [
    "\n"
   ]
  },
  {
   "cell_type": "code",
   "execution_count": null,
   "metadata": {},
   "outputs": [],
   "source": []
  },
  {
   "cell_type": "code",
   "execution_count": null,
   "metadata": {},
   "outputs": [],
   "source": [
    "import importlib"
   ]
  },
  {
   "cell_type": "code",
   "execution_count": null,
   "metadata": {},
   "outputs": [],
   "source": [
    "importlib.reload(inspectors)"
   ]
  },
  {
   "cell_type": "code",
   "execution_count": null,
   "metadata": {},
   "outputs": [],
   "source": [
    "importlib.reload(tv_loaders)"
   ]
  },
  {
   "cell_type": "code",
   "execution_count": null,
   "metadata": {},
   "outputs": [],
   "source": []
  },
  {
   "cell_type": "code",
   "execution_count": null,
   "metadata": {},
   "outputs": [],
   "source": []
  },
  {
   "cell_type": "code",
   "execution_count": null,
   "metadata": {},
   "outputs": [],
   "source": []
  },
  {
   "cell_type": "code",
   "execution_count": null,
   "metadata": {},
   "outputs": [],
   "source": []
  },
  {
   "cell_type": "code",
   "execution_count": null,
   "metadata": {},
   "outputs": [],
   "source": []
  },
  {
   "cell_type": "code",
   "execution_count": null,
   "metadata": {},
   "outputs": [],
   "source": []
  },
  {
   "cell_type": "code",
   "execution_count": null,
   "metadata": {},
   "outputs": [],
   "source": []
  },
  {
   "cell_type": "code",
   "execution_count": null,
   "metadata": {},
   "outputs": [],
   "source": []
  },
  {
   "cell_type": "code",
   "execution_count": null,
   "metadata": {},
   "outputs": [],
   "source": []
  },
  {
   "cell_type": "code",
   "execution_count": null,
   "metadata": {},
   "outputs": [],
   "source": []
  }
 ],
 "metadata": {
  "kernelspec": {
   "display_name": "Python 3",
   "language": "python",
   "name": "python3"
  },
  "language_info": {
   "codemirror_mode": {
    "name": "ipython",
    "version": 3
   },
   "file_extension": ".py",
   "mimetype": "text/x-python",
   "name": "python",
   "nbconvert_exporter": "python",
   "pygments_lexer": "ipython3",
   "version": "3.6.10"
  }
 },
 "nbformat": 4,
 "nbformat_minor": 4
}
