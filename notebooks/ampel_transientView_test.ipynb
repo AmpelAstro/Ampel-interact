{
 "cells": [
  {
   "cell_type": "markdown",
   "metadata": {},
   "source": [
    "AMPEL is a modular analysis platform, initially developed for complex analysis of heterogeneus streams of astronomical data. This notebook tests the system through opening one of the transients in the testfile and displaying its lightcurve."
   ]
  },
  {
   "cell_type": "code",
   "execution_count": null,
   "metadata": {},
   "outputs": [],
   "source": [
    "# General modules being used\n",
    "import bson   # Use the one provided through pymongo\n",
    "import sys\n",
    "import dataclasses\n",
    "import matplotlib.pyplot as plt\n",
    "from IPython.display import clear_output"
   ]
  },
  {
   "cell_type": "markdown",
   "metadata": {},
   "source": [
    "Information regarding an invidual transient is stored as a `TransientView` object. This, together with other base `AMPEL` types are loaded from the `Ampel-base` repository."
   ]
  },
  {
   "cell_type": "code",
   "execution_count": null,
   "metadata": {},
   "outputs": [],
   "source": [
    "from ampel.base.TransientView import TransientView"
   ]
  },
  {
   "cell_type": "code",
   "execution_count": null,
   "metadata": {},
   "outputs": [],
   "source": [
    "# Directly link Ampel-interact python code (replace with proper install)\n",
    "sys.path.append('../src')"
   ]
  },
  {
   "cell_type": "code",
   "execution_count": null,
   "metadata": {},
   "outputs": [],
   "source": [
    "import tv_loaders\n",
    "import inspectors\n",
    "## Loader assuming you have directly downloaded a collection of TVs dumped from an Ampel session\n",
    "loader = tv_loaders.TVdumpLoader('HU_TNS_MSIP', '/home/jnordin/github/ampelvispa/Ampel-interact/data/tns_nov24.json.gz')"
   ]
  },
  {
   "cell_type": "code",
   "execution_count": null,
   "metadata": {},
   "outputs": [],
   "source": [
    "# Load all transients matching some re query (will take a while - the same file contains thousands of transients)\n",
    "tvs = loader.load_matches('ZTF18aaf*')"
   ]
  },
  {
   "cell_type": "code",
   "execution_count": null,
   "metadata": {},
   "outputs": [],
   "source": [
    "# Set up an inspector that can show transient data\n",
    "# We can tune the output shown slightly through requesting some alert properties to be displayed\n",
    "display_alert_props = ['distnr','magnr','fwhm','classtar','nneg','nbad','rb','sgscore1','distpsnr1','ndethist','neargaia','drb']\n",
    "# We can also print the `latest` of t2 records if present\n",
    "t2units_to_print = ['CATALOGMATCH']\n",
    "#\n",
    "inspector = inspectors.ScanLC(display_alert_props, t2units_to_print)"
   ]
  },
  {
   "cell_type": "code",
   "execution_count": null,
   "metadata": {},
   "outputs": [],
   "source": [
    "# This should display a scanning interface for one transient - click on one of the buttons\n",
    "scan_result = inspector.scan_tvlist(tvs_inspect)"
   ]
  }
 ],
 "metadata": {
  "kernelspec": {
   "display_name": "Python 3",
   "language": "python",
   "name": "python3"
  },
  "language_info": {
   "codemirror_mode": {
    "name": "ipython",
    "version": 3
   },
   "file_extension": ".py",
   "mimetype": "text/x-python",
   "name": "python",
   "nbconvert_exporter": "python",
   "pygments_lexer": "ipython3",
   "version": "3.6.10"
  }
 },
 "nbformat": 4,
 "nbformat_minor": 4
}
